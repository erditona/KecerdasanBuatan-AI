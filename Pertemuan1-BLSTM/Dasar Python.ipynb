{
 "cells": [
  {
   "cell_type": "code",
   "execution_count": 122,
   "id": "d106e5c1",
   "metadata": {},
   "outputs": [],
   "source": [
    "a=100\n",
    "b=50\n",
    "\n",
    "#Variabel List\n",
    "c=['1','2','3','4','5']\n",
    "nomor=[1,7,4,9,2,8]\n",
    "nama_bapak=['Asep','Tatang','Anto']"
   ]
  },
  {
   "cell_type": "code",
   "execution_count": 123,
   "id": "685921e0",
   "metadata": {},
   "outputs": [
    {
     "name": "stdout",
     "output_type": "stream",
     "text": [
      "['1', '2', '3', '4', '5']\n",
      "[1, 2, 4, 7, 8, 9]\n",
      "[9, 8, 7, 4, 2, 1]\n",
      "7\n",
      "AsepTatang\n"
     ]
    }
   ],
   "source": [
    "print(c)\n",
    "\n",
    "#Mengurutkan data dari 0-sekian pakai sort()\n",
    "nomor.sort()\n",
    "print(nomor)\n",
    "\n",
    "#Mengurutkan data dari belakang ke depan reverse = True\n",
    "nomor_list = sorted(nomor,reverse = True)\n",
    "print(nomor_list)\n",
    "\n",
    "#Memanggil data dari list berdasarkan index\n",
    "print(nomor[3])\n",
    "\n",
    "print(nama_bapak[0]+nama_bapak[1])"
   ]
  },
  {
   "cell_type": "code",
   "execution_count": 3,
   "id": "bc3ee8d0",
   "metadata": {},
   "outputs": [
    {
     "name": "stdout",
     "output_type": "stream",
     "text": [
      "['apel', 'mangga', 'jambu']\n",
      "ada3jambu\n"
     ]
    }
   ],
   "source": [
    "buah=['apel','mangga','jambu']\n",
    "print(buah)\n",
    "print('ada'+ c[2]+ buah[2])"
   ]
  },
  {
   "cell_type": "code",
   "execution_count": 4,
   "id": "e9ce4f30",
   "metadata": {},
   "outputs": [
    {
     "name": "stdout",
     "output_type": "stream",
     "text": [
      "['apel', 'mangga', 'jambu', 'jeruk']\n"
     ]
    }
   ],
   "source": [
    "#Append untuk menambahkan data\n",
    "buah.append('jeruk')\n",
    "print(buah)"
   ]
  },
  {
   "cell_type": "code",
   "execution_count": 5,
   "id": "ca70b2ac",
   "metadata": {},
   "outputs": [
    {
     "name": "stdout",
     "output_type": "stream",
     "text": [
      "['apel', 'mangga', 'jambu']\n"
     ]
    }
   ],
   "source": [
    "#Pop untuk menghapus salah satu elemen\n",
    "buah.pop()\n",
    "print(buah)"
   ]
  },
  {
   "cell_type": "code",
   "execution_count": 6,
   "id": "cc05e424",
   "metadata": {},
   "outputs": [
    {
     "name": "stdout",
     "output_type": "stream",
     "text": [
      "jambu\n"
     ]
    }
   ],
   "source": [
    "baru=buah.pop()\n",
    "print(baru)"
   ]
  },
  {
   "cell_type": "code",
   "execution_count": 7,
   "id": "6cd84147",
   "metadata": {},
   "outputs": [
    {
     "name": "stdout",
     "output_type": "stream",
     "text": [
      "['apel', 'mangga', 'mangga']\n"
     ]
    }
   ],
   "source": [
    "# dipakai untuk menyisipkan data baru (posisi,value)\n",
    "buah.insert(2,'mangga')\n",
    "print(buah)"
   ]
  },
  {
   "cell_type": "code",
   "execution_count": 8,
   "id": "e6e7ffdd",
   "metadata": {},
   "outputs": [
    {
     "name": "stdout",
     "output_type": "stream",
     "text": [
      "dimas 3B\n"
     ]
    }
   ],
   "source": [
    "#Penggunaan dictionary\n",
    "#Memiliki 2 key yaitu nama dan kelas yang masing masing memiliki nilai\n",
    "a={\n",
    "    'nama':'dimas',\n",
    "    'kelas':'3B'\n",
    "}\n",
    "namamu=a['nama']\n",
    "kelasmu=a['kelas']\n",
    "print(namamu+' '+kelasmu)"
   ]
  },
  {
   "cell_type": "code",
   "execution_count": 9,
   "id": "2dcaaa80",
   "metadata": {},
   "outputs": [
    {
     "name": "stdout",
     "output_type": "stream",
     "text": [
      "Dimas Ardianto\n",
      "Dimas Ardianto\n"
     ]
    }
   ],
   "source": [
    "#Input\n",
    "nama=input()\n",
    "print(nama)"
   ]
  },
  {
   "cell_type": "code",
   "execution_count": 10,
   "id": "9a4af466",
   "metadata": {},
   "outputs": [
    {
     "name": "stdout",
     "output_type": "stream",
     "text": [
      "1\n",
      "2\n",
      "3\n",
      "4\n",
      "5\n",
      "6\n",
      "7\n",
      "8\n",
      "9\n"
     ]
    }
   ],
   "source": [
    "#LOOP\n",
    "\n",
    "n=1\n",
    "while n<10:\n",
    "    print(n)\n",
    "    n=n+1"
   ]
  },
  {
   "cell_type": "code",
   "execution_count": 11,
   "id": "dfbf78a3",
   "metadata": {},
   "outputs": [
    {
     "name": "stdout",
     "output_type": "stream",
     "text": [
      "1\n",
      "2\n",
      "1\n",
      "4\n",
      "0\n",
      "5\n",
      "4\n"
     ]
    }
   ],
   "source": [
    "NPM = '1214054'\n",
    "for c in NPM:\n",
    "    print(c)"
   ]
  },
  {
   "cell_type": "code",
   "execution_count": 15,
   "id": "801f7f77",
   "metadata": {},
   "outputs": [
    {
     "name": "stdout",
     "output_type": "stream",
     "text": [
      "angkatan 12\n"
     ]
    }
   ],
   "source": [
    "#Kondisi\n",
    "isinya = NPM[0:2]\n",
    "NPM = '1214054'\n",
    "if NPM[0:2] == '12':\n",
    "    print('angkatan 12')\n",
    "else:\n",
    "    print('bukan angkatan 12')"
   ]
  },
  {
   "cell_type": "code",
   "execution_count": 18,
   "id": "d7d447ea",
   "metadata": {},
   "outputs": [
    {
     "name": "stdout",
     "output_type": "stream",
     "text": [
      "1214054ini NPM\n"
     ]
    }
   ],
   "source": [
    "#Try Except\n",
    "\n",
    "NPM = 1214054\n",
    "try:\n",
    "    isinya = NPM+'Ini NPM' #Ketika ini eror maka kode except yang dijalankan\n",
    "except:\n",
    "    isinya = str(NPM)+'ini NPM' #Ini Antisipasinya\n",
    "print(isinya)"
   ]
  },
  {
   "cell_type": "code",
   "execution_count": 21,
   "id": "ae6c3650",
   "metadata": {},
   "outputs": [
    {
     "data": {
      "text/plain": [
       "2"
      ]
     },
     "execution_count": 21,
     "metadata": {},
     "output_type": "execute_result"
    }
   ],
   "source": [
    "1214054%3t"
   ]
  },
  {
   "cell_type": "code",
   "execution_count": 125,
   "id": "1e8b5c4c",
   "metadata": {},
   "outputs": [
    {
     "name": "stdout",
     "output_type": "stream",
     "text": [
      "+++++    +++  ++++++   +++++   ++++\n",
      "+++++++  +++  +++  ++  +++ ++ +++++\n",
      "+++  +++++++  ++++++   +++ ++++ +++\n",
      "+++    +++++  +++      +++      +++\n",
      "+++     ++++  +++      +++      +++\n"
     ]
    }
   ],
   "source": [
    "def print_NPM():\n",
    "    N = [\"+++++    +++\",\"+++++++  +++\",\"+++  +++++++\",\"+++    +++++\",\"+++     ++++\"]\n",
    "    P = [\"++++++ \",\"+++  ++\",\"++++++ \",\"+++    \",\"+++    \"]\n",
    "    M = [\"+++++   ++++\",\"+++ ++ +++++\",\"+++ ++++ +++\",\"+++      +++\",\"+++      +++\"]\n",
    "\n",
    "    for line in range(5):\n",
    "        print(N[line] + \"  \" + P[line] + \"  \" + M[line])\n",
    "\n",
    "# Memanggil fungsi untuk menampilkan NPM\n",
    "print_NPM()"
   ]
  },
  {
   "cell_type": "code",
   "execution_count": 94,
   "id": "6343a6cc",
   "metadata": {},
   "outputs": [
    {
     "name": "stdout",
     "output_type": "stream",
     "text": [
      "1214010\n",
      "Halo, 1214010 apa kabar?\n",
      "Halo, 1214010 apa kabar?\n",
      "Halo, 1214010 apa kabar?\n",
      "Halo, 1214010 apa kabar?\n",
      "Halo, 1214010 apa kabar?\n",
      "Halo, 1214010 apa kabar?\n",
      "Halo, 1214010 apa kabar?\n",
      "Halo, 1214010 apa kabar?\n",
      "Halo, 1214010 apa kabar?\n",
      "Halo, 1214010 apa kabar?\n"
     ]
    }
   ],
   "source": [
    "# Buatlah program hello word dengan input NPM yang disimpan dalam\n",
    "#sebuah variabel string bernama NPM dan output sebanyak dua dijit\n",
    "#belakang NPM,contoh NPM :1214054 maka akan ada output sebanyak 54\n",
    "#dengan tulisan 'Hallo, 1214054 apa kabar\n",
    "npm=input()\n",
    "\n",
    "last_number=npm[-2:]\n",
    "\n",
    "# Contoh pakai While\n",
    "# i=1\n",
    "# while i!=int(last_number):\n",
    "#     print('Halo, '+npm+' apa kabar?')\n",
    "#     i+=1\n",
    "    \n",
    "# Contoh pakai for\n",
    "for line in range(int(last_number)):\n",
    "    print('Halo, '+npm+' apa kabar?')"
   ]
  }
 ],
 "metadata": {
  "kernelspec": {
   "display_name": "Python 3 (ipykernel)",
   "language": "python",
   "name": "python3"
  },
  "language_info": {
   "codemirror_mode": {
    "name": "ipython",
    "version": 3
   },
   "file_extension": ".py",
   "mimetype": "text/x-python",
   "name": "python",
   "nbconvert_exporter": "python",
   "pygments_lexer": "ipython3",
   "version": "3.9.7"
  }
 },
 "nbformat": 4,
 "nbformat_minor": 5
}
