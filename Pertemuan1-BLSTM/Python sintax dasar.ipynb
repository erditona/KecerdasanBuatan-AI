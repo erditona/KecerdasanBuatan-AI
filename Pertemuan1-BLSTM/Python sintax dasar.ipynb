{
 "cells": [
  {
   "cell_type": "code",
   "execution_count": 4,
   "id": "e4c0a230",
   "metadata": {},
   "outputs": [
    {
     "name": "stdout",
     "output_type": "stream",
     "text": [
      "dito\n"
     ]
    }
   ],
   "source": [
    "print (\"dito\")"
   ]
  },
  {
   "cell_type": "code",
   "execution_count": 5,
   "id": "78afb9e0",
   "metadata": {},
   "outputs": [
    {
     "name": "stdout",
     "output_type": "stream",
     "text": [
      "dito\n"
     ]
    }
   ],
   "source": [
    "nama = \"dito\"\n",
    "print (nama)"
   ]
  },
  {
   "cell_type": "code",
   "execution_count": 15,
   "id": "871e3f8e",
   "metadata": {},
   "outputs": [
    {
     "name": "stdout",
     "output_type": "stream",
     "text": [
      "['jambu', 'apel', 'semangka']\n"
     ]
    }
   ],
   "source": [
    "buah = ['jambu','apel','semangka']\n",
    "print (buah)"
   ]
  },
  {
   "cell_type": "code",
   "execution_count": 8,
   "id": "5e4bca20",
   "metadata": {},
   "outputs": [
    {
     "name": "stdout",
     "output_type": "stream",
     "text": [
      "apel\n"
     ]
    }
   ],
   "source": [
    "print (buah[1])"
   ]
  },
  {
   "cell_type": "code",
   "execution_count": 16,
   "id": "1e467efe",
   "metadata": {},
   "outputs": [
    {
     "name": "stdout",
     "output_type": "stream",
     "text": [
      "['jambu', 'apel', 'semangka', 'duren']\n"
     ]
    }
   ],
   "source": [
    "buah.append(\"duren\")\n",
    "print (buah)"
   ]
  },
  {
   "cell_type": "code",
   "execution_count": 10,
   "id": "30dda8d2",
   "metadata": {},
   "outputs": [
    {
     "name": "stdout",
     "output_type": "stream",
     "text": [
      "[1, 2, 4, 6, 8, 3]\n"
     ]
    }
   ],
   "source": [
    "angka = [1,2,4,6,8,3]\n",
    "print (angka)"
   ]
  },
  {
   "cell_type": "code",
   "execution_count": 11,
   "id": "ff10ba82",
   "metadata": {},
   "outputs": [
    {
     "name": "stdout",
     "output_type": "stream",
     "text": [
      "[1, 2, 3, 4, 6, 8]\n"
     ]
    }
   ],
   "source": [
    "angka.sort(reverse=False)\n",
    "print (angka)"
   ]
  },
  {
   "cell_type": "code",
   "execution_count": 17,
   "id": "8ccf9a62",
   "metadata": {},
   "outputs": [
    {
     "name": "stdout",
     "output_type": "stream",
     "text": [
      "['jambu', 'apel', 'semangka', 'duren']\n"
     ]
    }
   ],
   "source": [
    "print(buah)"
   ]
  },
  {
   "cell_type": "code",
   "execution_count": 18,
   "id": "d718244c",
   "metadata": {},
   "outputs": [
    {
     "name": "stdout",
     "output_type": "stream",
     "text": [
      "['jambu', 'apel', 'semangka']\n"
     ]
    }
   ],
   "source": [
    "buah.pop()\n",
    "print(buah)"
   ]
  },
  {
   "cell_type": "code",
   "execution_count": 19,
   "id": "533604dd",
   "metadata": {},
   "outputs": [
    {
     "name": "stdout",
     "output_type": "stream",
     "text": [
      "semangka\n"
     ]
    }
   ],
   "source": [
    "buahbasi=buah.pop()\n",
    "print(buahbasi)"
   ]
  },
  {
   "cell_type": "code",
   "execution_count": 20,
   "id": "67bb4f43",
   "metadata": {},
   "outputs": [
    {
     "name": "stdout",
     "output_type": "stream",
     "text": [
      "['jambu', 'apel', 'nanas']\n"
     ]
    }
   ],
   "source": [
    "buah.insert(2,'nanas')\n",
    "print (buah)"
   ]
  },
  {
   "cell_type": "code",
   "execution_count": 24,
   "id": "349d577c",
   "metadata": {},
   "outputs": [
    {
     "name": "stdout",
     "output_type": "stream",
     "text": [
      "budi\n"
     ]
    }
   ],
   "source": [
    "#dictionary\n",
    "uhuy={\n",
    "    'nama':'budi',\n",
    "    'kelas':'b'\n",
    "}\n",
    "namamu=uhuy['nama']\n",
    "print(namamu)"
   ]
  },
  {
   "cell_type": "code",
   "execution_count": 6,
   "id": "53c2b159",
   "metadata": {},
   "outputs": [
    {
     "name": "stdout",
     "output_type": "stream",
     "text": [
      "mantanmu: watu\n",
      "=====================\n",
      "watu\n"
     ]
    }
   ],
   "source": [
    "#inputan\n",
    "namamantan=input('mantanmu: ')\n",
    "print('=====================')\n",
    "print(namamantan)"
   ]
  },
  {
   "cell_type": "code",
   "execution_count": 25,
   "id": "3f6e3b15",
   "metadata": {},
   "outputs": [
    {
     "name": "stdout",
     "output_type": "stream",
     "text": [
      "w\n",
      "a\n",
      "t\n",
      "i\n"
     ]
    }
   ],
   "source": [
    "#perulangan\n",
    "nama = 'wati'\n",
    "for gebetan in nama: print(gebetan)"
   ]
  },
  {
   "cell_type": "code",
   "execution_count": 29,
   "id": "c16a75b5",
   "metadata": {},
   "outputs": [
    {
     "name": "stdout",
     "output_type": "stream",
     "text": [
      "gebetan\n"
     ]
    }
   ],
   "source": [
    "#kondisi\n",
    "gebetan = ['wati', 'fulan']\n",
    "\n",
    "if gebetan[1] == 'fulan':\n",
    "    print('gebetan')\n",
    "else:\n",
    "    print('mantan')"
   ]
  },
  {
   "cell_type": "code",
   "execution_count": 30,
   "id": "87ed954b",
   "metadata": {},
   "outputs": [
    {
     "name": "stdout",
     "output_type": "stream",
     "text": [
      "nama= nazwa\n",
      "mantan\n"
     ]
    }
   ],
   "source": [
    "#kondisi 2 dengan inputan\n",
    "namasayang = input('nama= ')\n",
    "gebetan = ['wati', 'fulan', 'juleha']\n",
    "\n",
    "if namasayang in gebetan:\n",
    "    print('gebetan')\n",
    "else:\n",
    "    print('mantan')"
   ]
  },
  {
   "cell_type": "code",
   "execution_count": 31,
   "id": "d6fd7667",
   "metadata": {},
   "outputs": [
    {
     "name": "stdout",
     "output_type": "stream",
     "text": [
      "Nama sayang: nazwa\n",
      "Dia adalah mantan cuyy.\n"
     ]
    }
   ],
   "source": [
    "#try-except\n",
    "gebetan = ['wati', 'fulan', 'juleha']\n",
    "\n",
    "try:\n",
    "    namasayang = input('Nama sayang: ')\n",
    "    if namasayang in gebetan:\n",
    "        print('Dia adalah gebetanmu cuyyy!')\n",
    "    else:\n",
    "        print('Dia adalah mantan cuyy.')\n",
    "except Exception as e:\n",
    "    print(\"Terjadi kesalahan:\", e)"
   ]
  }
 ],
 "metadata": {
  "kernelspec": {
   "display_name": "Python 3 (ipykernel)",
   "language": "python",
   "name": "python3"
  },
  "language_info": {
   "codemirror_mode": {
    "name": "ipython",
    "version": 3
   },
   "file_extension": ".py",
   "mimetype": "text/x-python",
   "name": "python",
   "nbconvert_exporter": "python",
   "pygments_lexer": "ipython3",
   "version": "3.9.7"
  }
 },
 "nbformat": 4,
 "nbformat_minor": 5
}
