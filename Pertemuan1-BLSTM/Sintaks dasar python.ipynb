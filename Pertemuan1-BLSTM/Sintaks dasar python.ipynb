{
 "cells": [
  {
   "cell_type": "code",
   "execution_count": 1,
   "id": "83a984f2",
   "metadata": {},
   "outputs": [
    {
     "name": "stdout",
     "output_type": "stream",
     "text": [
      "a o\n",
      "o\n"
     ]
    }
   ],
   "source": [
    "# list\n",
    "vokal = ['a', 'i', 'u', 'e', 'o']\n",
    "print(vokal[0], vokal[4])\n",
    "print(vokal.pop())"
   ]
  },
  {
   "cell_type": "code",
   "execution_count": 2,
   "id": "0216c594",
   "metadata": {},
   "outputs": [
    {
     "name": "stdout",
     "output_type": "stream",
     "text": [
      "dani\n"
     ]
    }
   ],
   "source": [
    "# dictionary\n",
    "mahasiswa = {\n",
    "    'nama' : ['fatwa','dani'],\n",
    "    'npm' : '1214038',\n",
    "    'kelas' : '3B'\n",
    "}\n",
    "# mahasiswa['nama']\n",
    "print(mahasiswa['nama'][1])"
   ]
  },
  {
   "cell_type": "code",
   "execution_count": 4,
   "id": "02e0c622",
   "metadata": {},
   "outputs": [
    {
     "name": "stdout",
     "output_type": "stream",
     "text": [
      "nama: fatwa\n",
      "namamu: fatwa\n"
     ]
    }
   ],
   "source": [
    "# input\n",
    "nama = input('nama: ')\n",
    "print('namamu:', nama)"
   ]
  },
  {
   "cell_type": "code",
   "execution_count": 5,
   "id": "6d4a022e",
   "metadata": {},
   "outputs": [
    {
     "name": "stdout",
     "output_type": "stream",
     "text": [
      "1\n",
      "2\n",
      "3\n",
      "4\n",
      "5\n"
     ]
    }
   ],
   "source": [
    "# while\n",
    "i = 1\n",
    "while i < 6:\n",
    "  print(i)\n",
    "  i += 1"
   ]
  },
  {
   "cell_type": "code",
   "execution_count": 15,
   "id": "bd306a5d",
   "metadata": {},
   "outputs": [
    {
     "name": "stdout",
     "output_type": "stream",
     "text": [
      "pisang\n",
      "apel\n",
      "mangga\n"
     ]
    }
   ],
   "source": [
    "# for\n",
    "keranjang_buah = ['pisang', 'apel', 'mangga']\n",
    "for buah in keranjang_buah:\n",
    "    print(buah)"
   ]
  },
  {
   "cell_type": "code",
   "execution_count": 8,
   "id": "cfacf002",
   "metadata": {},
   "outputs": [
    {
     "name": "stdout",
     "output_type": "stream",
     "text": [
      "anak kelas 3B\n"
     ]
    }
   ],
   "source": [
    "# kondisi\n",
    "if mahasiswa['kelas'] == '3B':\n",
    "    print('anak kelas 3B')\n",
    "else:\n",
    "    print('bukan anak kelas 3B')"
   ]
  },
  {
   "cell_type": "code",
   "execution_count": 26,
   "id": "05e7577b",
   "metadata": {},
   "outputs": [
    {
     "name": "stdout",
     "output_type": "stream",
     "text": [
      "mangga\n"
     ]
    }
   ],
   "source": [
    "# try except\n",
    "try:\n",
    "    print(keranjang_buah[5])\n",
    "except:\n",
    "    print(keranjang_buah[-1])"
   ]
  },
  {
   "cell_type": "code",
   "execution_count": 59,
   "id": "90f14218",
   "metadata": {},
   "outputs": [
    {
     "data": {
      "text/plain": [
       "0"
      ]
     },
     "execution_count": 59,
     "metadata": {},
     "output_type": "execute_result"
    }
   ],
   "source": [
    "1214031%3"
   ]
  },
  {
   "cell_type": "markdown",
   "id": "14286ab6",
   "metadata": {},
   "source": [
    "### no.1"
   ]
  },
  {
   "cell_type": "code",
   "execution_count": 70,
   "id": "62722d5c",
   "metadata": {},
   "outputs": [
    {
     "name": "stdout",
     "output_type": "stream",
     "text": [
      "npm: 12\n",
      "****   *** ******  *****   ****\n",
      "*****  *** ***  ** ***  *** ***\n",
      "***  ***** ******  ***   *  ***\n",
      "***   **** ***     ***      ***\n",
      "***    *** ***     ***      ***\n"
     ]
    }
   ],
   "source": [
    "npm = input('npm: ')\n",
    "\n",
    "n = ['####   ###',\n",
    "     '#####  ###',\n",
    "     '###  #####',\n",
    "     '###   ####',\n",
    "     '###    ###']\n",
    "p = ['###### ',\n",
    "     '###  ##',\n",
    "     '###### ',\n",
    "     '###    ',\n",
    "     '###    ']\n",
    "m = ['#####   ####',\n",
    "     '###  ### ###',\n",
    "     '###   #  ###',\n",
    "     '###      ###',\n",
    "     '###      ###']\n",
    "\n",
    "for x in range(5):\n",
    "    fmt = '*'\n",
    "    if int(npm)%3 == 0:\n",
    "        fmt\n",
    "    elif int(npm)%3 == 1:\n",
    "        fmt = '#'\n",
    "    else:\n",
    "        fmt = '+'\n",
    "    print(n[x].replace('#', fmt), p[x].replace('#', fmt), m[x].replace('#', fmt))"
   ]
  },
  {
   "cell_type": "markdown",
   "id": "021ecd52",
   "metadata": {},
   "source": [
    "### no.2"
   ]
  },
  {
   "cell_type": "code",
   "execution_count": 77,
   "id": "8bd3c73a",
   "metadata": {},
   "outputs": [
    {
     "name": "stdout",
     "output_type": "stream",
     "text": [
      "npm: 1214038\n",
      "1. Halo, 1214038 apa kabar?\n",
      "2. Halo, 1214038 apa kabar?\n",
      "3. Halo, 1214038 apa kabar?\n",
      "4. Halo, 1214038 apa kabar?\n",
      "5. Halo, 1214038 apa kabar?\n",
      "6. Halo, 1214038 apa kabar?\n",
      "7. Halo, 1214038 apa kabar?\n",
      "8. Halo, 1214038 apa kabar?\n",
      "9. Halo, 1214038 apa kabar?\n",
      "10. Halo, 1214038 apa kabar?\n",
      "11. Halo, 1214038 apa kabar?\n",
      "12. Halo, 1214038 apa kabar?\n",
      "13. Halo, 1214038 apa kabar?\n",
      "14. Halo, 1214038 apa kabar?\n",
      "15. Halo, 1214038 apa kabar?\n",
      "16. Halo, 1214038 apa kabar?\n",
      "17. Halo, 1214038 apa kabar?\n",
      "18. Halo, 1214038 apa kabar?\n",
      "19. Halo, 1214038 apa kabar?\n",
      "20. Halo, 1214038 apa kabar?\n",
      "21. Halo, 1214038 apa kabar?\n",
      "22. Halo, 1214038 apa kabar?\n",
      "23. Halo, 1214038 apa kabar?\n",
      "24. Halo, 1214038 apa kabar?\n",
      "25. Halo, 1214038 apa kabar?\n",
      "26. Halo, 1214038 apa kabar?\n",
      "27. Halo, 1214038 apa kabar?\n",
      "28. Halo, 1214038 apa kabar?\n",
      "29. Halo, 1214038 apa kabar?\n",
      "30. Halo, 1214038 apa kabar?\n",
      "31. Halo, 1214038 apa kabar?\n",
      "32. Halo, 1214038 apa kabar?\n",
      "33. Halo, 1214038 apa kabar?\n",
      "34. Halo, 1214038 apa kabar?\n",
      "35. Halo, 1214038 apa kabar?\n",
      "36. Halo, 1214038 apa kabar?\n",
      "37. Halo, 1214038 apa kabar?\n",
      "38. Halo, 1214038 apa kabar?\n"
     ]
    }
   ],
   "source": [
    "npm = input('npm: ')\n",
    "\n",
    "for i in range(int(npm[-2:])):\n",
    "    print(f\"{i+1}. Halo, {npm} apa kabar?\")\n",
    "    i += 1"
   ]
  },
  {
   "cell_type": "markdown",
   "id": "48c7c643",
   "metadata": {},
   "source": [
    "### no.3"
   ]
  },
  {
   "cell_type": "code",
   "execution_count": 92,
   "id": "e58887ea",
   "metadata": {},
   "outputs": [
    {
     "name": "stdout",
     "output_type": "stream",
     "text": [
      "npm: 1214038\n",
      "1. Halo, 038 apa kabar?\n",
      "2. Halo, 038 apa kabar?\n",
      "3. Halo, 038 apa kabar?\n",
      "4. Halo, 038 apa kabar?\n",
      "5. Halo, 038 apa kabar?\n",
      "6. Halo, 038 apa kabar?\n",
      "7. Halo, 038 apa kabar?\n",
      "8. Halo, 038 apa kabar?\n",
      "9. Halo, 038 apa kabar?\n",
      "10. Halo, 038 apa kabar?\n",
      "11. Halo, 038 apa kabar?\n"
     ]
    }
   ],
   "source": [
    "npm = input('npm: ')\n",
    "\n",
    "for i in range(int(npm[-1])+int(npm[-2])+int(npm[-3])):\n",
    "    print(f\"{i+1}. Halo, {npm[-3:]} apa kabar?\")\n",
    "    i += 1"
   ]
  },
  {
   "cell_type": "markdown",
   "id": "973aecde",
   "metadata": {},
   "source": [
    "### no.4"
   ]
  },
  {
   "cell_type": "code",
   "execution_count": 96,
   "id": "cb535daf",
   "metadata": {},
   "outputs": [
    {
     "name": "stdout",
     "output_type": "stream",
     "text": [
      "npm: 1214038\n",
      "Halo, 0 apa kabar?\n"
     ]
    }
   ],
   "source": [
    "npm = input('npm: ')\n",
    "\n",
    "print(f\"Halo, {npm[-3]} apa kabar?\")"
   ]
  },
  {
   "cell_type": "markdown",
   "id": "c40cc42e",
   "metadata": {},
   "source": [
    "### no.5"
   ]
  },
  {
   "cell_type": "code",
   "execution_count": 108,
   "id": "d46a1cdf",
   "metadata": {},
   "outputs": [
    {
     "name": "stdout",
     "output_type": "stream",
     "text": [
      "1214038\n"
     ]
    }
   ],
   "source": [
    "a = 1\n",
    "b = 2\n",
    "c = 1\n",
    "d = 4\n",
    "e = 0\n",
    "f = 3\n",
    "g = 8\n",
    "\n",
    "npm = [a,b,c,d,e,f,g]\n",
    "\n",
    "i = ''\n",
    "for x in npm:\n",
    "    i += str(x)\n",
    "\n",
    "print(i)"
   ]
  },
  {
   "cell_type": "markdown",
   "id": "787b5fc8",
   "metadata": {},
   "source": [
    "### no.6"
   ]
  },
  {
   "cell_type": "code",
   "execution_count": 113,
   "id": "6a911f23",
   "metadata": {},
   "outputs": [
    {
     "name": "stdout",
     "output_type": "stream",
     "text": [
      "19\n"
     ]
    }
   ],
   "source": [
    "i = 0\n",
    "for x in npm:\n",
    "    i+=x\n",
    "\n",
    "print(i)"
   ]
  },
  {
   "cell_type": "markdown",
   "id": "60199b46",
   "metadata": {},
   "source": [
    "### no.7"
   ]
  },
  {
   "cell_type": "code",
   "execution_count": 116,
   "id": "4f34570c",
   "metadata": {},
   "outputs": [
    {
     "name": "stdout",
     "output_type": "stream",
     "text": [
      "0\n"
     ]
    }
   ],
   "source": [
    "i = 0\n",
    "for x in npm:\n",
    "    i*=x\n",
    "\n",
    "print(i)"
   ]
  },
  {
   "cell_type": "markdown",
   "id": "9bc54b9f",
   "metadata": {},
   "source": [
    "### no.8"
   ]
  },
  {
   "cell_type": "code",
   "execution_count": 117,
   "id": "83486d35",
   "metadata": {},
   "outputs": [
    {
     "name": "stdout",
     "output_type": "stream",
     "text": [
      "1\n",
      "2\n",
      "1\n",
      "4\n",
      "0\n",
      "3\n",
      "8\n"
     ]
    }
   ],
   "source": [
    "for x in npm:\n",
    "    print(x)"
   ]
  },
  {
   "cell_type": "markdown",
   "id": "336aa932",
   "metadata": {},
   "source": [
    "### no.9"
   ]
  },
  {
   "cell_type": "code",
   "execution_count": 138,
   "id": "e49b0a94",
   "metadata": {},
   "outputs": [
    {
     "name": "stdout",
     "output_type": "stream",
     "text": [
      "248\n"
     ]
    }
   ],
   "source": [
    "i = ''\n",
    "for x in npm:\n",
    "    if x % 2 == 0 and x != 0:\n",
    "        i += str(x)\n",
    "\n",
    "print(i)"
   ]
  },
  {
   "cell_type": "markdown",
   "id": "0e4f5784",
   "metadata": {},
   "source": [
    "### no.10"
   ]
  },
  {
   "cell_type": "code",
   "execution_count": 140,
   "id": "98e9efba",
   "metadata": {},
   "outputs": [
    {
     "name": "stdout",
     "output_type": "stream",
     "text": [
      "113\n"
     ]
    }
   ],
   "source": [
    "i = ''\n",
    "for x in npm:\n",
    "    if not x % 2 == 0:\n",
    "        i += str(x)\n",
    "\n",
    "print(i)"
   ]
  },
  {
   "cell_type": "markdown",
   "id": "841cdb7b",
   "metadata": {},
   "source": [
    "### no.11"
   ]
  },
  {
   "cell_type": "code",
   "execution_count": 165,
   "id": "daa74be3",
   "metadata": {},
   "outputs": [
    {
     "name": "stdout",
     "output_type": "stream",
     "text": [
      "23\n",
      "0.5\n",
      "0\n"
     ]
    }
   ],
   "source": [
    "# If given number is greater than 1\n",
    "a = ''\n",
    "for x in npm:\n",
    "    if x > 1:\n",
    "        # Iterate from 2 to n / 2\n",
    "        for i in range(2, int(x/2)+1):\n",
    "            # If num is divisible by any number between\n",
    "            # 2 and n / 2, it is not prime\n",
    "            if (x % i) == 0:\n",
    "                break\n",
    "        else:\n",
    "            a+= str(x)\n",
    "\n",
    "\n",
    "print(a)\n",
    "print(1/2)\n",
    "print(int(1/2))"
   ]
  },
  {
   "cell_type": "code",
   "execution_count": 199,
   "id": "113f2f90",
   "metadata": {},
   "outputs": [
    {
     "name": "stdout",
     "output_type": "stream",
     "text": [
      "23\n"
     ]
    }
   ],
   "source": [
    "a=''\n",
    "for x in npm:\n",
    "    if x > 1:\n",
    "        for i in range(2,x+1):\n",
    "            if x!=i and (x%i) == 0:\n",
    "                break\n",
    "        else:\n",
    "            a+= str(x)\n",
    "print(a)"
   ]
  },
  {
   "cell_type": "markdown",
   "id": "9c9d62b4",
   "metadata": {},
   "source": [
    "### tes"
   ]
  },
  {
   "cell_type": "code",
   "execution_count": 90,
   "id": "d9e28b39",
   "metadata": {},
   "outputs": [
    {
     "name": "stdout",
     "output_type": "stream",
     "text": [
      "npm: 1214038\n",
      "a = 1\n",
      "b = 2\n",
      "c = 1\n",
      "d = 4\n",
      "e = 0\n",
      "f = 3\n",
      "g = 8\n"
     ]
    }
   ],
   "source": [
    "npm = input('npm: ')\n",
    "\n",
    "i = 0\n",
    "for x in npm:\n",
    "    print(f\"{chr(97+i)}\" + f\" = {x}\")\n",
    "    i += 1"
   ]
  },
  {
   "cell_type": "code",
   "execution_count": null,
   "id": "d70c2d72",
   "metadata": {},
   "outputs": [],
   "source": []
  }
 ],
 "metadata": {
  "kernelspec": {
   "display_name": "Python 3 (ipykernel)",
   "language": "python",
   "name": "python3"
  },
  "language_info": {
   "codemirror_mode": {
    "name": "ipython",
    "version": 3
   },
   "file_extension": ".py",
   "mimetype": "text/x-python",
   "name": "python",
   "nbconvert_exporter": "python",
   "pygments_lexer": "ipython3",
   "version": "3.9.7"
  }
 },
 "nbformat": 4,
 "nbformat_minor": 5
}
